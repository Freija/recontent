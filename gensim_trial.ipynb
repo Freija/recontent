{
 "cells": [
  {
   "cell_type": "code",
   "execution_count": 1,
   "metadata": {
    "collapsed": true
   },
   "outputs": [],
   "source": [
    "import logging\n",
    "logging.basicConfig(format='%(asctime)s : %(levelname)s : %(message)s', level=logging.INFO)"
   ]
  },
  {
   "cell_type": "code",
   "execution_count": 2,
   "metadata": {
    "collapsed": true
   },
   "outputs": [],
   "source": [
    "from gensim import corpora"
   ]
  },
  {
   "cell_type": "code",
   "execution_count": 3,
   "metadata": {
    "collapsed": true
   },
   "outputs": [],
   "source": [
    "import urllib"
   ]
  },
  {
   "cell_type": "code",
   "execution_count": 8,
   "metadata": {
    "collapsed": false
   },
   "outputs": [
    {
     "name": "stdout",
     "output_type": "stream",
     "text": [
      "b'<?xml version=\"1.0\" encoding=\"UTF-8\"?>\\n<feed xmlns=\"http://www.w3.org/2005/Atom\">\\n  <link href=\"http://arxiv.org/api/query?search_query%3Dall%3Aelectron%26id_list%3D%26start%3D0%26max_results%3D10\" rel=\"self\" type=\"application/atom+xml\"/>\\n  <title type=\"html\">ArXiv Query: search_query=all:electron&amp;id_list=&amp;start=0&amp;max_results=10</title>\\n  <id>http://arxiv.org/api/WyBPOs+pRgzCTXTMWhtnbcOmk6g</id>\\n  <updated>2016-07-12T00:00:00-04:00</updated>\\n  <opensearch:totalResults xmlns:opensearch=\"http://a9.com/-/spec/opensearch/1.1/\">114066</opensearch:totalResults>\\n  <opensearch:startIndex xmlns:opensearch=\"http://a9.com/-/spec/opensearch/1.1/\">0</opensearch:startIndex>\\n  <opensearch:itemsPerPage xmlns:opensearch=\"http://a9.com/-/spec/opensearch/1.1/\">10</opensearch:itemsPerPage>\\n  <entry>\\n    <id>http://arxiv.org/abs/cond-mat/0102536v1</id>\\n    <updated>2001-02-28T20:12:09Z</updated>\\n    <published>2001-02-28T20:12:09Z</published>\\n    <title>Impact of Electron-Electron Cusp on Configuration Interaction Energies</title>\\n    <summary>  The effect of the electron-electron cusp on the convergence of configuration\\ninteraction (CI) wave functions is examined. By analogy with the\\npseudopotential approach for electron-ion interactions, an effective\\nelectron-electron interaction is developed which closely reproduces the\\nscattering of the Coulomb interaction but is smooth and finite at zero\\nelectron-electron separation. The exact many-electron wave function for this\\nsmooth effective interaction has no cusp at zero electron-electron separation.\\nWe perform CI and quantum Monte Carlo calculations for He and Be atoms, both\\nwith the Coulomb electron-electron interaction and with the smooth effective\\nelectron-electron interaction. We find that convergence of the CI expansion of\\nthe wave function for the smooth electron-electron interaction is not\\nsignificantly improved compared with that for the divergent Coulomb interaction\\nfor energy differences on the order of 1 mHartree. This shows that, contrary to\\npopular belief, description of the electron-electron cusp is not a limiting\\nfactor, to within chemical accuracy, for CI calculations.\\n</summary>\\n    <author>\\n      <name>David Prendergast</name>\\n      <arxiv:affiliation xmlns:arxiv=\"http://arxiv.org/schemas/atom\">Department of Physics</arxiv:affiliation>\\n    </author>\\n    <author>\\n      <name>M. Nolan</name>\\n      <arxiv:affiliation xmlns:arxiv=\"http://arxiv.org/schemas/atom\">NMRC, University College, Cork, Ireland</arxiv:affiliation>\\n    </author>\\n    <author>\\n      <name>Claudia Filippi</name>\\n      <arxiv:affiliation xmlns:arxiv=\"http://arxiv.org/schemas/atom\">Department of Physics</arxiv:affiliation>\\n    </author>\\n    <author>\\n      <name>Stephen Fahy</name>\\n      <arxiv:affiliation xmlns:arxiv=\"http://arxiv.org/schemas/atom\">Department of Physics</arxiv:affiliation>\\n    </author>\\n    <author>\\n      <name>J. C. Greer</name>\\n      <arxiv:affiliation xmlns:arxiv=\"http://arxiv.org/schemas/atom\">NMRC, University College, Cork, Ireland</arxiv:affiliation>\\n    </author>\\n    <arxiv:doi xmlns:arxiv=\"http://arxiv.org/schemas/atom\">10.1063/1.1383585</arxiv:doi>\\n    <link title=\"doi\" href=\"http://dx.doi.org/10.1063/1.1383585\" rel=\"related\"/>\\n    <arxiv:comment xmlns:arxiv=\"http://arxiv.org/schemas/atom\">11 pages, 6 figures, 3 tables, LaTeX209, submitted to The Journal of\\n  Chemical Physics</arxiv:comment>\\n    <arxiv:journal_ref xmlns:arxiv=\"http://arxiv.org/schemas/atom\">J. Chem. Phys. 115, 1626 (2001)</arxiv:journal_ref>\\n    <link href=\"http://arxiv.org/abs/cond-mat/0102536v1\" rel=\"alternate\" type=\"text/html\"/>\\n    <link title=\"pdf\" href=\"http://arxiv.org/pdf/cond-mat/0102536v1\" rel=\"related\" type=\"application/pdf\"/>\\n    <arxiv:primary_category xmlns:arxiv=\"http://arxiv.org/schemas/atom\" term=\"cond-mat.str-el\" scheme=\"http://arxiv.org/schemas/atom\"/>\\n    <category term=\"cond-mat.str-el\" scheme=\"http://arxiv.org/schemas/atom\"/>\\n  </entry>\\n  <entry>\\n    <id>http://arxiv.org/abs/astro-ph/0608371v1</id>\\n    <updated>2006-08-17T14:05:46Z</updated>\\n    <published>2006-08-17T14:05:46Z</published>\\n    <title>Electron thermal conductivity owing to collisions between degenerate\\n  electrons</title>\\n    <summary>  We calculate the thermal conductivity of electrons produced by\\nelectron-electron Coulomb scattering in a strongly degenerate electron gas\\ntaking into account the Landau damping of transverse plasmons. The Landau\\ndamping strongly reduces this conductivity in the domain of ultrarelativistic\\nelectrons at temperatures below the electron plasma temperature. In the inner\\ncrust of a neutron star at temperatures T &lt; 1e7 K this thermal conductivity\\ncompletely dominates over the electron conductivity due to electron-ion\\n(electron-phonon) scattering and becomes competitive with the the electron\\nconductivity due to scattering of electrons by impurity ions.\\n</summary>\\n    <author>\\n      <name>P. S. Shternin</name>\\n      <arxiv:affiliation xmlns:arxiv=\"http://arxiv.org/schemas/atom\">Ioffe Physico-Technical Institute</arxiv:affiliation>\\n    </author>\\n    <author>\\n      <name>D. G. Yakovlev</name>\\n      <arxiv:affiliation xmlns:arxiv=\"http://arxiv.org/schemas/atom\">Ioffe Physico-Technical Institute</arxiv:affiliation>\\n    </author>\\n    <arxiv:doi xmlns:arxiv=\"http://arxiv.org/schemas/atom\">10.1103/PhysRevD.74.043004</arxiv:doi>\\n    <link title=\"doi\" href=\"http://dx.doi.org/10.1103/PhysRevD.74.043004\" rel=\"related\"/>\\n    <arxiv:comment xmlns:arxiv=\"http://arxiv.org/schemas/atom\">8 pages, 3 figures</arxiv:comment>\\n    <arxiv:journal_ref xmlns:arxiv=\"http://arxiv.org/schemas/atom\">Phys.Rev. D74 (2006) 043004</arxiv:journal_ref>\\n    <link href=\"http://arxiv.org/abs/astro-ph/0608371v1\" rel=\"alternate\" type=\"text/html\"/>\\n    <link title=\"pdf\" href=\"http://arxiv.org/pdf/astro-ph/0608371v1\" rel=\"related\" type=\"application/pdf\"/>\\n    <arxiv:primary_category xmlns:arxiv=\"http://arxiv.org/schemas/atom\" term=\"astro-ph\" scheme=\"http://arxiv.org/schemas/atom\"/>\\n    <category term=\"astro-ph\" scheme=\"http://arxiv.org/schemas/atom\"/>\\n  </entry>\\n  <entry>\\n    <id>http://arxiv.org/abs/1501.04914v1</id>\\n    <updated>2015-01-20T18:48:22Z</updated>\\n    <published>2015-01-20T18:48:22Z</published>\\n    <title>Hamiltonian of a many-electron system with single-electron and\\n  electron-pair states in a two-dimensional periodic potential</title>\\n    <summary>  Based on the metastable electron-pair energy band in a two-dimensional (2D)\\nperiodic potential obtained previously by Hai and Castelano [J. Phys.: Condens.\\nMatter 26, 115502 (2014)], we present in this work a Hamiltonian of many\\nelectrons consisting of single electrons and electron pairs in the 2D system.\\nThe electron-pair states are metastable of energies higher than those of the\\nsingle-electron states at low electron density. We assume two different\\nscenarios for the single-electron band. When it is considered as the lowest\\nconduction band of a crystal, we compare the obtained Hamiltonian with the\\nphenomenological model Hamiltonian of a boson-fermion mixture proposed by\\nFriedberg and Lee [Phys. Rev. B 40, 6745 (1989)]. Single-electron-electron-pair\\nand electron-pair-electron-pair interaction terms appear in our Hamiltonian and\\nthe interaction potentials can be determined from the electron-electron Coulomb\\ninteractions. When we consider the single-electron band as the highest valence\\nband of a crystal, we show that holes in this valence band are important for\\nstabilization of the electron-pair states in the system.\\n</summary>\\n    <author>\\n      <name>G. -Q. Hai</name>\\n    </author>\\n    <author>\\n      <name>F. M. Peeters</name>\\n    </author>\\n    <arxiv:doi xmlns:arxiv=\"http://arxiv.org/schemas/atom\">10.1140/epjb/e2014-50686-x</arxiv:doi>\\n    <link title=\"doi\" href=\"http://dx.doi.org/10.1140/epjb/e2014-50686-x\" rel=\"related\"/>\\n    <arxiv:journal_ref xmlns:arxiv=\"http://arxiv.org/schemas/atom\">Eur. Phys. J. B (2015) 88: 20</arxiv:journal_ref>\\n    <link href=\"http://arxiv.org/abs/1501.04914v1\" rel=\"alternate\" type=\"text/html\"/>\\n    <link title=\"pdf\" href=\"http://arxiv.org/pdf/1501.04914v1\" rel=\"related\" type=\"application/pdf\"/>\\n    <arxiv:primary_category xmlns:arxiv=\"http://arxiv.org/schemas/atom\" term=\"cond-mat.supr-con\" scheme=\"http://arxiv.org/schemas/atom\"/>\\n    <category term=\"cond-mat.supr-con\" scheme=\"http://arxiv.org/schemas/atom\"/>\\n    <category term=\"cond-mat.mes-hall\" scheme=\"http://arxiv.org/schemas/atom\"/>\\n  </entry>\\n  <entry>\\n    <id>http://arxiv.org/abs/0707.4225v1</id>\\n    <updated>2007-07-28T09:32:22Z</updated>\\n    <published>2007-07-28T09:32:22Z</published>\\n    <title>Electron-Electron Bremsstrahlung Emission and the Inference of Electron\\n  Flux Spectra in Solar Flares</title>\\n    <summary>  Although both electron-ion and electron-electron bremsstrahlung contribute to\\nthe hard X-ray emission from solar flares, the latter is normally ignored. Such\\nan omission is not justified at electron (and photon) energies above $\\\\sim 300$\\nkeV, and inclusion of the additional electron-electron bremsstrahlung in\\ngeneral makes the electron spectrum required to produce a given hard X-ray\\nspectrum steeper at high energies.\\n  Unlike electron-ion bremsstrahlung, electron-electron bremsstrahlung cannot\\nproduce photons of all energies up to the maximum electron energy involved. The\\nmaximum possible photon energy depends on the angle between the direction of\\nthe emitting electron and the emitted photon, and this suggests a diagnostic\\nfor an upper cutoff energy and/or for the degree of beaming of the accelerated\\nelectrons.\\n  We analyze the large event of January 17, 2005 observed by RHESSI and show\\nthat the upward break around 400 keV in the observed hard X-ray spectrum is\\nnaturally accounted for by the inclusion of electron-electron bremsstrahlung.\\nIndeed, the mean source electron spectrum recovered through a regularized\\ninversion of the hard X-ray spectrum, using a cross-section that includes both\\nelectron-ion and electron-electron terms, has a relatively constant spectral\\nindex $\\\\delta$ over the range from electron kinetic energy $E = 200$ keV to $E\\n= 1$ MeV. However, the level of detail discernible in the recovered electron\\nspectrum is not sufficient to determine whether or not any upper cutoff energy\\nexists.\\n</summary>\\n    <author>\\n      <name>Eduard P. Kontar</name>\\n    </author>\\n    <author>\\n      <name>A. Gordon Emslie</name>\\n    </author>\\n    <author>\\n      <name>Anna Maria Massone</name>\\n    </author>\\n    <author>\\n      <name>Michele Piana</name>\\n    </author>\\n    <author>\\n      <name>John C. Brown</name>\\n    </author>\\n    <author>\\n      <name>Marco Prato</name>\\n    </author>\\n    <arxiv:doi xmlns:arxiv=\"http://arxiv.org/schemas/atom\">10.1086/521977</arxiv:doi>\\n    <link title=\"doi\" href=\"http://dx.doi.org/10.1086/521977\" rel=\"related\"/>\\n    <arxiv:comment xmlns:arxiv=\"http://arxiv.org/schemas/atom\">7 pages, 5 figures, submitted to Astrophysical Journal</arxiv:comment>\\n    <link href=\"http://arxiv.org/abs/0707.4225v1\" rel=\"alternate\" type=\"text/html\"/>\\n    <link title=\"pdf\" href=\"http://arxiv.org/pdf/0707.4225v1\" rel=\"related\" type=\"application/pdf\"/>\\n    <arxiv:primary_category xmlns:arxiv=\"http://arxiv.org/schemas/atom\" term=\"astro-ph\" scheme=\"http://arxiv.org/schemas/atom\"/>\\n    <category term=\"astro-ph\" scheme=\"http://arxiv.org/schemas/atom\"/>\\n  </entry>\\n  <entry>\\n    <id>http://arxiv.org/abs/astro-ph/9904306v1</id>\\n    <updated>1999-04-22T15:54:59Z</updated>\\n    <published>1999-04-22T15:54:59Z</published>\\n    <title>Improved scenario of baryogenesis</title>\\n    <summary>  It is assumed that, in the primordial plasma, at the temperatures above the\\nmass of electron, fermions are in the neutral state being the superposition of\\nparticle and antiparticle. There exists neutral proton-electron symmetry.\\nProton-electron equilibrium is defined by the proton-electron mass difference.\\nAt the temperature equal to the mass of electron, pairs of neutral electrons\\nannihilate into photons, and pairs of neutral protons and electrons survive as\\nprotons and electrons.\\n</summary>\\n    <author>\\n      <name>D. L. Khokhlov</name>\\n    </author>\\n    <arxiv:comment xmlns:arxiv=\"http://arxiv.org/schemas/atom\">3 pages LaTeX</arxiv:comment>\\n    <link href=\"http://arxiv.org/abs/astro-ph/9904306v1\" rel=\"alternate\" type=\"text/html\"/>\\n    <link title=\"pdf\" href=\"http://arxiv.org/pdf/astro-ph/9904306v1\" rel=\"related\" type=\"application/pdf\"/>\\n    <arxiv:primary_category xmlns:arxiv=\"http://arxiv.org/schemas/atom\" term=\"astro-ph\" scheme=\"http://arxiv.org/schemas/atom\"/>\\n    <category term=\"astro-ph\" scheme=\"http://arxiv.org/schemas/atom\"/>\\n  </entry>\\n  <entry>\\n    <id>http://arxiv.org/abs/cond-mat/0310615v1</id>\\n    <updated>2003-10-27T08:59:02Z</updated>\\n    <published>2003-10-27T08:59:02Z</published>\\n    <title>Exact Electron-Pairing Ground States of Tight-Binding Models with Local\\n  Attractive Interactions</title>\\n    <summary>  We present a class of exactly solvable models of correlated electrons. The\\nmodels are defined in any dimension $d$ and consist of electron-hopping terms\\nand local attractive interactions between electrons. For each even number of\\nelectrons less than or equal to $1/(d+1)$-filling, we find the exact ground\\nstate in which all electrons form pairs of a certain type, and thus the models\\nexhibit an electron-pair condensation.\\n</summary>\\n    <author>\\n      <name>Akinori Tanaka</name>\\n    </author>\\n    <arxiv:doi xmlns:arxiv=\"http://arxiv.org/schemas/atom\">10.1143/JPSJ.73.1107</arxiv:doi>\\n    <link title=\"doi\" href=\"http://dx.doi.org/10.1143/JPSJ.73.1107\" rel=\"related\"/>\\n    <arxiv:comment xmlns:arxiv=\"http://arxiv.org/schemas/atom\">4 pages, 1 figure</arxiv:comment>\\n    <link href=\"http://arxiv.org/abs/cond-mat/0310615v1\" rel=\"alternate\" type=\"text/html\"/>\\n    <link title=\"pdf\" href=\"http://arxiv.org/pdf/cond-mat/0310615v1\" rel=\"related\" type=\"application/pdf\"/>\\n    <arxiv:primary_category xmlns:arxiv=\"http://arxiv.org/schemas/atom\" term=\"cond-mat.str-el\" scheme=\"http://arxiv.org/schemas/atom\"/>\\n    <category term=\"cond-mat.str-el\" scheme=\"http://arxiv.org/schemas/atom\"/>\\n  </entry>\\n  <entry>\\n    <id>http://arxiv.org/abs/cond-mat/0205001v1</id>\\n    <updated>2002-04-30T20:00:18Z</updated>\\n    <published>2002-04-30T20:00:18Z</published>\\n    <title>Electron-electron interactions in a weakly screened two-dimensional\\n  electron system</title>\\n    <summary>  We probe the strength of electron-electron interactions using\\nmagnetoconductivity measurements of two-dimensional non-degenerate electrons on\\nliquid helium at 1.22 K. Our data extend to electron densities that are two\\norders of magnitude smaller than previously reported. We span both the\\nindependent-electron regime where the data are qualitatively described by the\\nself-consistent Born approximation (SCBA), and the strongly-interacting\\nelectron regime. At finite fields we observe a crossover from SCBA to Drude\\ntheory as a function of electron density.\\n</summary>\\n    <author>\\n      <name>I. Karakurt</name>\\n    </author>\\n    <author>\\n      <name>A. J. Dahm</name>\\n    </author>\\n    <arxiv:comment xmlns:arxiv=\"http://arxiv.org/schemas/atom\">4 pages, 5 figures</arxiv:comment>\\n    <link href=\"http://arxiv.org/abs/cond-mat/0205001v1\" rel=\"alternate\" type=\"text/html\"/>\\n    <link title=\"pdf\" href=\"http://arxiv.org/pdf/cond-mat/0205001v1\" rel=\"related\" type=\"application/pdf\"/>\\n    <arxiv:primary_category xmlns:arxiv=\"http://arxiv.org/schemas/atom\" term=\"cond-mat.str-el\" scheme=\"http://arxiv.org/schemas/atom\"/>\\n    <category term=\"cond-mat.str-el\" scheme=\"http://arxiv.org/schemas/atom\"/>\\n  </entry>\\n  <entry>\\n    <id>http://arxiv.org/abs/1403.5117v2</id>\\n    <updated>2014-04-03T18:29:50Z</updated>\\n    <published>2014-03-20T12:47:57Z</published>\\n    <title>Free-electron properties of metals under ultrafast laser-induced\\n  electron-phonon nonequilibrium: A first-principles study</title>\\n    <summary>  The electronic behavior of various solid metals (Al, Ni, Cu, Au, Ti, and W)\\nunder ultrashort laser irradiation is investigated by means of density\\nfunctional theory. Successive stages of extreme nonequilibrium on picosecond\\ntime scale impact the excited material properties in terms of optical coupling\\nand transport characteristics. As these are generally modelled based on the\\nfree-electron classical theory, the free-electron number is a key parameter.\\nHowever, this parameter remains unclearly defined and dependencies on the\\nelectronic temperature are not considered. Here, from first-principles\\ncalculations, density of states are obtained with respect to electronic\\ntemperatures varying from 10^-2 to 10^5 K within a cold lattice. Based on the\\nconcept of localized or delocalized electronic states, temperature dependent\\nfree-electron numbers are evaluated for a series of metals covering a large\\nrange of electronic configurations. With the increase of the electronic\\ntemperature we observe strong adjustments of the electronic structures of\\ntransition metals. These are related to variations of electronic occupation in\\nlocalized d bands, via change in electronic screening and electron-ion\\neffective potential. The electronic temperature dependence of nonequilibrium\\ndensity of states has consequences on electronic chemical potentials,\\nfree-electron numbers, electronic heat capacities, and electronic pressures.\\nThus electronic thermodynamic properties are computed and discussed, serving as\\na base to derive energetic and transport properties allowing the description of\\nexcitation and relaxation phenomena caused by rapid laser action.\\n</summary>\\n    <author>\\n      <name>Emile B\\xc3\\xa9villon</name>\\n      <arxiv:affiliation xmlns:arxiv=\"http://arxiv.org/schemas/atom\">LHC</arxiv:affiliation>\\n    </author>\\n    <author>\\n      <name>Jean-Philippe Colombier</name>\\n      <arxiv:affiliation xmlns:arxiv=\"http://arxiv.org/schemas/atom\">LHC</arxiv:affiliation>\\n    </author>\\n    <author>\\n      <name>Vanina Recoules</name>\\n      <arxiv:affiliation xmlns:arxiv=\"http://arxiv.org/schemas/atom\">DPTA</arxiv:affiliation>\\n    </author>\\n    <author>\\n      <name>Razvan Stoian</name>\\n      <arxiv:affiliation xmlns:arxiv=\"http://arxiv.org/schemas/atom\">LHC</arxiv:affiliation>\\n    </author>\\n    <arxiv:doi xmlns:arxiv=\"http://arxiv.org/schemas/atom\">10.1103/PhysRevB.89.115117</arxiv:doi>\\n    <link title=\"doi\" href=\"http://dx.doi.org/10.1103/PhysRevB.89.115117\" rel=\"related\"/>\\n    <arxiv:journal_ref xmlns:arxiv=\"http://arxiv.org/schemas/atom\">Physical Review B (Condensed Matter) 89 (2014) 115117</arxiv:journal_ref>\\n    <link href=\"http://arxiv.org/abs/1403.5117v2\" rel=\"alternate\" type=\"text/html\"/>\\n    <link title=\"pdf\" href=\"http://arxiv.org/pdf/1403.5117v2\" rel=\"related\" type=\"application/pdf\"/>\\n    <arxiv:primary_category xmlns:arxiv=\"http://arxiv.org/schemas/atom\" term=\"cond-mat.mtrl-sci\" scheme=\"http://arxiv.org/schemas/atom\"/>\\n    <category term=\"cond-mat.mtrl-sci\" scheme=\"http://arxiv.org/schemas/atom\"/>\\n    <category term=\"cond-mat.str-el\" scheme=\"http://arxiv.org/schemas/atom\"/>\\n  </entry>\\n  <entry>\\n    <id>http://arxiv.org/abs/cond-mat/0002322v1</id>\\n    <updated>2000-02-21T11:53:06Z</updated>\\n    <published>2000-02-21T11:53:06Z</published>\\n    <title>First-principles calculations of hot-electron lifetimes in metals</title>\\n    <summary>  First-principles calculations of the inelastic lifetime of low-energy\\nelectrons in Al, Mg, Be, and Cu are reported. Quasiparticle damping rates are\\nevaluated from the knowledge of the electron self-energy, which we compute\\nwithin the GW approximation of many-body theory. Inelastic lifetimes are then\\nobtained along various directions of the electron wave vector, with full\\ninclusion of the band structure of the solid. Average lifetimes are also\\nreported, as a function of the electron energy. In Al and Mg, splitting of the\\nband structure over the Fermi level yields electron lifetimes that are smaller\\nthan those of electrons in a free-electron gas. Larger lifetimes are found in\\nBe, as a result of the characteristic dip that this material presents in the\\ndensity of states near the Fermi level. In Cu, a major contribution from $d$\\nelectrons participating in the screening of electron-electron interactions\\nyields electron lifetimes which are well above those of electrons in a\\nfree-electron gas with the electron density equal to that of valence ($4s^1$)\\nelectrons.\\n</summary>\\n    <author>\\n      <name>I. Campillo</name>\\n    </author>\\n    <author>\\n      <name>V. M. Silkin</name>\\n    </author>\\n    <author>\\n      <name>J. M. Pitarke</name>\\n    </author>\\n    <author>\\n      <name>E. V. Chulkov</name>\\n    </author>\\n    <author>\\n      <name>A. Rubio</name>\\n    </author>\\n    <author>\\n      <name>P. M. Echenique</name>\\n    </author>\\n    <arxiv:doi xmlns:arxiv=\"http://arxiv.org/schemas/atom\">10.1103/PhysRevB.61.13484</arxiv:doi>\\n    <link title=\"doi\" href=\"http://dx.doi.org/10.1103/PhysRevB.61.13484\" rel=\"related\"/>\\n    <arxiv:comment xmlns:arxiv=\"http://arxiv.org/schemas/atom\">8 pages, 10 figures, to appear in Phys. Rev. B</arxiv:comment>\\n    <arxiv:journal_ref xmlns:arxiv=\"http://arxiv.org/schemas/atom\">Phys. Rev. B 61, 13484 (2000)</arxiv:journal_ref>\\n    <link href=\"http://arxiv.org/abs/cond-mat/0002322v1\" rel=\"alternate\" type=\"text/html\"/>\\n    <link title=\"pdf\" href=\"http://arxiv.org/pdf/cond-mat/0002322v1\" rel=\"related\" type=\"application/pdf\"/>\\n    <arxiv:primary_category xmlns:arxiv=\"http://arxiv.org/schemas/atom\" term=\"cond-mat.mtrl-sci\" scheme=\"http://arxiv.org/schemas/atom\"/>\\n    <category term=\"cond-mat.mtrl-sci\" scheme=\"http://arxiv.org/schemas/atom\"/>\\n  </entry>\\n  <entry>\\n    <id>http://arxiv.org/abs/1010.5544v1</id>\\n    <updated>2010-10-27T00:48:15Z</updated>\\n    <published>2010-10-27T00:48:15Z</published>\\n    <title>D\\'yakonov-Perel\\' spin relaxation for degenerate electrons in the\\n  electron-hole liquid</title>\\n    <summary>  We present an analytical study of the D\\'yakonov-Perel\\' spin relaxation time\\nfor degenerate electrons in a photo-excited electron-hole liquid in intrinsic\\nsemiconductors exhibiting a spin-split band structure. The D\\'yakonov-Perel\\'\\nspin relaxation of electrons in these materials is controlled by electron-hole\\nscattering, with small corrections from electron-electron scattering and\\nvirtually none from electron-impurity scattering. We derive simple expressions\\n(one-dimensional and two-dimensional integrals respectively) for the effective\\nelectron-hole and electron-electron scattering rates which enter the spin\\nrelaxation time calculation. The electron-hole scattering rate is found to be\\ncomparable to the scattering rates from impurities in the electron liquid - a\\ncommon model for n-type doped semiconductors. As the density of electron-hole\\npairs decreases (within the degenerate regime), a strong enhancement of the\\nscattering rates and a corresponding slowing down of spin relaxation is\\npredicted due to exchange and correlation effects in the electron-hole liquid.\\nIn the opposite limit of high density, the original D\\'yakonov-Perel\\' model\\nfails due to decreasing scattering rates and is eventually superseded by free\\nprecession of individual quasiparticle spins.\\n</summary>\\n    <author>\\n      <name>Matthew D. Mower</name>\\n    </author>\\n    <author>\\n      <name>G. Vignale</name>\\n    </author>\\n    <author>\\n      <name>I. V. Tokatly</name>\\n    </author>\\n    <arxiv:doi xmlns:arxiv=\"http://arxiv.org/schemas/atom\">10.1103/PhysRevB.83.155205</arxiv:doi>\\n    <link title=\"doi\" href=\"http://dx.doi.org/10.1103/PhysRevB.83.155205\" rel=\"related\"/>\\n    <arxiv:comment xmlns:arxiv=\"http://arxiv.org/schemas/atom\">16 pages, 5 figures</arxiv:comment>\\n    <arxiv:journal_ref xmlns:arxiv=\"http://arxiv.org/schemas/atom\">Phys. Rev. B 83, 155205 (2011)</arxiv:journal_ref>\\n    <link href=\"http://arxiv.org/abs/1010.5544v1\" rel=\"alternate\" type=\"text/html\"/>\\n    <link title=\"pdf\" href=\"http://arxiv.org/pdf/1010.5544v1\" rel=\"related\" type=\"application/pdf\"/>\\n    <arxiv:primary_category xmlns:arxiv=\"http://arxiv.org/schemas/atom\" term=\"cond-mat.mtrl-sci\" scheme=\"http://arxiv.org/schemas/atom\"/>\\n    <category term=\"cond-mat.mtrl-sci\" scheme=\"http://arxiv.org/schemas/atom\"/>\\n  </entry>\\n</feed>\\n'\n"
     ]
    }
   ],
   "source": [
    "url = 'http://export.arxiv.org/api/query?search_query=all:electron&start=0&max_results=10'\n",
    "data=urllib.request.urlopen(url).read()\n",
    "#data = urllib.urlopen(url).read()\n",
    "print(data)"
   ]
  },
  {
   "cell_type": "code",
   "execution_count": 10,
   "metadata": {
    "collapsed": false
   },
   "outputs": [],
   "source": [
    "doc1=\"Electron acceleration in a post-flare decimetric continuum source Prasad Subramanian, S. M. White, M. Karlický, R. Sych, H. S. Sawant, S. Ananthakrishnan(Submitted on 23 Mar 2007)Aims: To calculate the power budget for electron acceleration and the efficiency of the plasma emission mechanism in a post-flare decimetric continuum source. Methods: We have imaged a high brightness temperature (∼109K) post-flare source at 1060 MHz with the Giant Metrewave Radio Telescope (GMRT). We use information from these images and the dynamic spectrum from the Hiraiso spectrograph together with the theoretical method described in Subramanian & Becker (2006) to calculate the power input to the electron acceleration process. The method assumes that the electrons are accelerated via a second-order Fermi acceleration mechanism. Results: We find that the power input to the nonthermal electrons is in the range 3×1025--1026 erg/s. The efficiency of the overall plasma emission process starting from electron acceleration and culminating in the observed emission could range from 2.87×10−9 to 2.38×10−8.\""
   ]
  },
  {
   "cell_type": "code",
   "execution_count": 12,
   "metadata": {
    "collapsed": false
   },
   "outputs": [],
   "source": [
    "doc2=\"Local (shearing box) simulations of the nonlinear evolution of the magnetorotational instability in a collisionless plasma show that angular momentum transport by pressure anisotropy (p⊥≠p∥, where the directions are defined with respect to the local magnetic field) is comparable to that due to the Maxwell and Reynolds stresses. Pressure anisotropy, which is effectively a large-scale viscosity, arises because of adiabatic invariants related to p⊥ and p∥ in a fluctuating magnetic field. In a collisionless plasma, the magnitude of the pressure anisotropy, and thus the viscosity, is determined by kinetic instabilities at the cyclotron frequency. Our simulations show that ∼50 % of the gravitational potential energy is directly converted into heat at large scales by the viscous stress (the remaining energy is lost to grid-scale numerical dissipation of kinetic and magnetic energy). We show that electrons receive a significant fraction (∼[Te/Ti]1/2) of this dissipated energy. Employing this heating by an anisotropic viscous stress in one dimensional models of radiatively inefficient accretion flows, we find that the radiative efficiency of the flow is greater than 0.5% for M˙≳10−4M˙Edd. Thus a low accretion rate, rather than just a low radiative efficiency, is necessary to explain the low luminosity of many accreting black holes. For Sgr A* in the Galactic Center, our predicted radiative efficiencies imply an accretion rate of ≈3×10−8M⊙yr−1 and an electron temperature of ≈3×1010 K at ≈10 Schwarzschild radii; the latter is consistent with the brightness temperature inferred from VLBI observations.\""
   ]
  },
  {
   "cell_type": "code",
   "execution_count": 13,
   "metadata": {
    "collapsed": true
   },
   "outputs": [],
   "source": [
    "doc3=\"We review the theory of electron-conduction opacity, a fundamental ingredient in the computation of low-mass stellar models; shortcomings and limitations of the existing calculations used in stellar evolution are discussed. We then present new determinations of the electron-conduction opacity in stellar conditions for an arbitrary chemical composition, that improve over previous works and, most importantly, cover the whole parameter space relevant to stellar evolution models (i.e., both the regime of partial and high electron degeneracy). A detailed comparison with the currently used tabulations is also performed. The impact of our new opacities on the evolution of low-mass stars is assessed by computing stellar models along both the H- and He-burning evolutionary phases, as well as Main Sequence models of very low-mass stars and white dwarf cooling tracks.\""
   ]
  },
  {
   "cell_type": "code",
   "execution_count": 14,
   "metadata": {
    "collapsed": true
   },
   "outputs": [],
   "source": [
    "doc4=\"The best measurement of the cosmic ray positron flux available today was performed by the HEAT balloon experiment more than 10 years ago. Given the limitations in weight and power consumption for balloon experiments, a novel approach was needed to design a detector which could increase the existing data by more than a factor of 100. Using silicon photomultipliers for the readout of a scintillating fiber tracker and of an imaging electromagnetic calorimeter, the PEBS detector features a large geometrical acceptance of 2500 cm^2 sr for positrons, a total weight of 1500 kg and a power consumption of 600 W. The experiment is intended to measure cosmic ray particle spectra for a period of up to 20 days at an altitude of 40 km circulating the North or South Pole. A full Geant 4 simulation of the detector concept has been developed and key elements have been verified in a testbeam in October 2006 at CERN.\""
   ]
  },
  {
   "cell_type": "code",
   "execution_count": 17,
   "metadata": {
    "collapsed": true
   },
   "outputs": [],
   "source": [
    "doc5=\"The fluorescence detection of ultra high energy (> 10^18 eV) cosmic rays requires a detailed knowledge of the fluorescence light emission from nitrogen molecules, which are excited by the cosmic ray shower particles along their path in the atmosphere. We have made a precise measurement of the fluorescence light spectrum excited by MeV electrons in dry air. We measured the relative intensities of 34 fluorescence bands in the wavelength range from 284 to 429 nm with a high resolution spectrograph. The pressure dependence of the fluorescence spectrum was also measured from a few hPa up to atmospheric pressure. Relative intensities and collisional quenching reference pressures for bands due to transitions from a common upper level were found in agreement with theoretical expectations. The presence of argon in air was found to have a negligible effect on the fluorescence yield. We estimated that the systematic uncertainty on the cosmic ray shower energy due to the pressure dependence of the fluorescence spectrum is reduced to a level of 1% by the AIRFLY results presented in this paper.\""
   ]
  },
  {
   "cell_type": "code",
   "execution_count": 21,
   "metadata": {
    "collapsed": true
   },
   "outputs": [],
   "source": [
    "documents=[doc1,doc2,doc3,doc4,doc5]"
   ]
  },
  {
   "cell_type": "code",
   "execution_count": 25,
   "metadata": {
    "collapsed": false
   },
   "outputs": [],
   "source": [
    "# remove words from the stopwords and tokenize\n",
    "from nltk.corpus import stopwords\n",
    "#stoplist = set('for a of the and to in'.split())\n",
    "texts = [[word for word in document.lower().split() if word not in stopwords.words('english')] for document in documents]"
   ]
  },
  {
   "cell_type": "code",
   "execution_count": 26,
   "metadata": {
    "collapsed": true
   },
   "outputs": [],
   "source": [
    "# remove words that appear only once\n",
    "from collections import defaultdict\n",
    "frequency = defaultdict(int)\n",
    "for text in texts:\n",
    "    for token in text:\n",
    "        frequency[token] += 1\n",
    "texts = [[token for token in text if frequency[token] > 1] for text in texts]"
   ]
  },
  {
   "cell_type": "code",
   "execution_count": 27,
   "metadata": {
    "collapsed": false
   },
   "outputs": [
    {
     "name": "stdout",
     "output_type": "stream",
     "text": [
      "[['electron',\n",
      "  'acceleration',\n",
      "  'post-flare',\n",
      "  'decimetric',\n",
      "  'continuum',\n",
      "  'source',\n",
      "  's.',\n",
      "  'm.',\n",
      "  'm.',\n",
      "  's.',\n",
      "  's.',\n",
      "  'calculate',\n",
      "  'power',\n",
      "  'electron',\n",
      "  'acceleration',\n",
      "  'efficiency',\n",
      "  'plasma',\n",
      "  'emission',\n",
      "  'post-flare',\n",
      "  'decimetric',\n",
      "  'continuum',\n",
      "  'high',\n",
      "  'brightness',\n",
      "  'temperature',\n",
      "  'post-flare',\n",
      "  'source',\n",
      "  'spectrum',\n",
      "  'theoretical',\n",
      "  'method',\n",
      "  'calculate',\n",
      "  'power',\n",
      "  'input',\n",
      "  'electron',\n",
      "  'acceleration',\n",
      "  'method',\n",
      "  'electrons',\n",
      "  'acceleration',\n",
      "  'find',\n",
      "  'power',\n",
      "  'input',\n",
      "  'electrons',\n",
      "  'range',\n",
      "  'efficiency',\n",
      "  'plasma',\n",
      "  'emission',\n",
      "  'electron',\n",
      "  'acceleration',\n",
      "  'emission',\n",
      "  'could',\n",
      "  'range'],\n",
      " ['local',\n",
      "  'simulations',\n",
      "  'evolution',\n",
      "  'collisionless',\n",
      "  'plasma',\n",
      "  'show',\n",
      "  'pressure',\n",
      "  'local',\n",
      "  'magnetic',\n",
      "  'due',\n",
      "  'pressure',\n",
      "  'anisotropy,',\n",
      "  'viscosity,',\n",
      "  'magnetic',\n",
      "  'collisionless',\n",
      "  'pressure',\n",
      "  'anisotropy,',\n",
      "  'thus',\n",
      "  'viscosity,',\n",
      "  'kinetic',\n",
      "  'simulations',\n",
      "  'show',\n",
      "  'energy',\n",
      "  'heat',\n",
      "  'large',\n",
      "  'viscous',\n",
      "  'stress',\n",
      "  'energy',\n",
      "  'kinetic',\n",
      "  'magnetic',\n",
      "  'show',\n",
      "  'electrons',\n",
      "  'viscous',\n",
      "  'stress',\n",
      "  'models',\n",
      "  'accretion',\n",
      "  'find',\n",
      "  'radiative',\n",
      "  'efficiency',\n",
      "  'thus',\n",
      "  'low',\n",
      "  'accretion',\n",
      "  'low',\n",
      "  'radiative',\n",
      "  'low',\n",
      "  'radiative',\n",
      "  'accretion',\n",
      "  'electron',\n",
      "  'temperature',\n",
      "  'brightness',\n",
      "  'temperature'],\n",
      " ['electron-conduction',\n",
      "  'low-mass',\n",
      "  'stellar',\n",
      "  'limitations',\n",
      "  'existing',\n",
      "  'used',\n",
      "  'stellar',\n",
      "  'evolution',\n",
      "  'new',\n",
      "  'electron-conduction',\n",
      "  'stellar',\n",
      "  'stellar',\n",
      "  'evolution',\n",
      "  'models',\n",
      "  'high',\n",
      "  'electron',\n",
      "  'detailed',\n",
      "  'used',\n",
      "  'also',\n",
      "  'new',\n",
      "  'evolution',\n",
      "  'low-mass',\n",
      "  'stars',\n",
      "  'stellar',\n",
      "  'models',\n",
      "  'along',\n",
      "  'models',\n",
      "  'low-mass',\n",
      "  'stars'],\n",
      " ['measurement',\n",
      "  'cosmic',\n",
      "  'ray',\n",
      "  'heat',\n",
      "  'balloon',\n",
      "  'experiment',\n",
      "  'limitations',\n",
      "  'weight',\n",
      "  'power',\n",
      "  'consumption',\n",
      "  'balloon',\n",
      "  'detector',\n",
      "  'could',\n",
      "  'existing',\n",
      "  'detector',\n",
      "  'large',\n",
      "  'weight',\n",
      "  'power',\n",
      "  'consumption',\n",
      "  'experiment',\n",
      "  'cosmic',\n",
      "  'ray',\n",
      "  'detector'],\n",
      " ['fluorescence',\n",
      "  'high',\n",
      "  'energy',\n",
      "  'cosmic',\n",
      "  'detailed',\n",
      "  'fluorescence',\n",
      "  'light',\n",
      "  'emission',\n",
      "  'excited',\n",
      "  'cosmic',\n",
      "  'ray',\n",
      "  'shower',\n",
      "  'along',\n",
      "  'measurement',\n",
      "  'fluorescence',\n",
      "  'light',\n",
      "  'spectrum',\n",
      "  'excited',\n",
      "  'electrons',\n",
      "  'measured',\n",
      "  'relative',\n",
      "  'intensities',\n",
      "  'fluorescence',\n",
      "  'bands',\n",
      "  'range',\n",
      "  'high',\n",
      "  'pressure',\n",
      "  'dependence',\n",
      "  'fluorescence',\n",
      "  'spectrum',\n",
      "  'also',\n",
      "  'measured',\n",
      "  'relative',\n",
      "  'intensities',\n",
      "  'bands',\n",
      "  'due',\n",
      "  'level',\n",
      "  'found',\n",
      "  'theoretical',\n",
      "  'found',\n",
      "  'fluorescence',\n",
      "  'cosmic',\n",
      "  'ray',\n",
      "  'shower',\n",
      "  'energy',\n",
      "  'due',\n",
      "  'pressure',\n",
      "  'dependence',\n",
      "  'fluorescence',\n",
      "  'spectrum',\n",
      "  'level']]\n"
     ]
    }
   ],
   "source": [
    "from pprint import pprint\n",
    "pprint(texts)"
   ]
  },
  {
   "cell_type": "code",
   "execution_count": 28,
   "metadata": {
    "collapsed": true
   },
   "outputs": [],
   "source": [
    "#trouble-shooting: anything that ends with a dot causes some trouble. might be a middle name initial or something. "
   ]
  },
  {
   "cell_type": "code",
   "execution_count": 29,
   "metadata": {
    "collapsed": false
   },
   "outputs": [
    {
     "name": "stdout",
     "output_type": "stream",
     "text": [
      "Dictionary(75 unique tokens: ['light', 'magnetic', 's.', 'continuum', 'weight']...)\n"
     ]
    }
   ],
   "source": [
    "#save texts as a dictionary\n",
    "dictionary = corpora.Dictionary(texts)\n",
    "dictionary.save('firstdic.dict')  # store the dictionary, for future reference\n",
    "print(dictionary)"
   ]
  },
  {
   "cell_type": "code",
   "execution_count": 30,
   "metadata": {
    "collapsed": false
   },
   "outputs": [
    {
     "name": "stdout",
     "output_type": "stream",
     "text": [
      "{'light': 73, 'magnetic': 24, 's.': 2, 'continuum': 3, 'weight': 59, 'could': 4, 'excited': 72, 'show': 31, 'consumption': 61, 'also': 50, 'limitations': 51, 'found': 66, 'range': 9, 'evolution': 39, 'stellar': 52, 'theoretical': 10, 'simulations': 35, 'cosmic': 58, 'efficiency': 15, 'stress': 33, 'level': 65, 'acceleration': 7, 'measured': 68, 'detector': 60, 'local': 43, 'electron-conduction': 53, 'ray': 63, 'find': 18, 'source': 17, 'post-flare': 20, 'new': 49, 'input': 21, 'due': 29, 'stars': 54, 'low-mass': 47, 'collisionless': 37, 'existing': 45, 'decimetric': 0, 'electrons': 1, 'emission': 12, 'power': 5, 'low': 30, 'calculate': 6, 'along': 55, 'experiment': 56, 'high': 8, 'large': 36, 'used': 48, 'viscous': 38, 'temperature': 11, 'kinetic': 40, 'relative': 74, 'thus': 42, 'spectrum': 13, 'brightness': 14, 'detailed': 46, 'shower': 64, 'energy': 26, 'bands': 69, 'models': 28, 'fluorescence': 70, 'anisotropy,': 25, 'viscosity,': 32, 'balloon': 57, 'measurement': 62, 'electron': 16, 'intensities': 67, 'radiative': 27, 'method': 19, 'dependence': 71, 'accretion': 41, 'm.': 22, 'heat': 34, 'plasma': 23, 'pressure': 44}\n"
     ]
    }
   ],
   "source": [
    "#look at the unique integer IDs for the 75 words\n",
    "print(dictionary.token2id)"
   ]
  },
  {
   "cell_type": "code",
   "execution_count": 33,
   "metadata": {
    "collapsed": false
   },
   "outputs": [
    {
     "name": "stdout",
     "output_type": "stream",
     "text": [
      "[(4, 1), (50, 1)]\n"
     ]
    }
   ],
   "source": [
    "#test a new document\n",
    "doc6=\"This paper presents the effects of electron-positron pair production on the linear growth of the resistive hose instability of a filamentary beam that could lead to snake-like distortion. For both the rectangular radial density profile and the diffuse profile reflecting the Bennett-type equilibrium for a self-collimating flow, the modified eigenvalue equations are derived from a Vlasov-Maxwell equation. While for the simple rectangular profile, current perturbation is localized at the sharp radial edge, for the realistic Bennett profile with an obscure edge, it is non-locally distributed over the entire beam, removing catastrophic wave-particle resonance. The pair production effects likely decrease the betatron frequency, and expand the beam radius to increase the resistive decay time of the perturbed current; these also lead to a reduction of the growth rate. It is shown that, for the Bennett profile case, the characteristic growth distance for a preferential mode can exceed the observational length-scale of astrophysical jets. This might provide the key to the problem of the stabilized transport of the astrophysical jets including extragalactic jets up to Mpc (∼3×1024 cm) scales.\"\n",
    "new_vec = dictionary.doc2bow(doc6.lower().split())\n",
    "print(new_vec)"
   ]
  },
  {
   "cell_type": "code",
   "execution_count": null,
   "metadata": {
    "collapsed": true
   },
   "outputs": [],
   "source": []
  }
 ],
 "metadata": {
  "anaconda-cloud": {},
  "kernelspec": {
   "display_name": "Python [Root]",
   "language": "python",
   "name": "Python [Root]"
  },
  "language_info": {
   "codemirror_mode": {
    "name": "ipython",
    "version": 3
   },
   "file_extension": ".py",
   "mimetype": "text/x-python",
   "name": "python",
   "nbconvert_exporter": "python",
   "pygments_lexer": "ipython3",
   "version": "3.5.1"
  }
 },
 "nbformat": 4,
 "nbformat_minor": 0
}
